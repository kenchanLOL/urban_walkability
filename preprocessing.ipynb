{
 "cells": [
  {
   "cell_type": "code",
   "execution_count": 1,
   "metadata": {},
   "outputs": [],
   "source": [
    "%matplotlib inline\n",
    "import pandas\n",
    "import os\n",
    "import random\n",
    "from PIL import Image\n",
    "from matplotlib import pyplot as plt\n",
    "import numpy as np\n",
    "from IPython import display\n",
    "import time\n",
    "import shutil\n",
    "import matplotlib_inline.backend_inline"
   ]
  },
  {
   "cell_type": "code",
   "execution_count": 2,
   "metadata": {},
   "outputs": [],
   "source": [
    "matplotlib_inline.backend_inline.set_matplotlib_formats(\"svg\")"
   ]
  },
  {
   "cell_type": "code",
   "execution_count": 3,
   "metadata": {
    "tags": []
   },
   "outputs": [],
   "source": [
    "path=os.path.join(os.getcwd(),\"dataset\")"
   ]
  },
  {
   "cell_type": "code",
   "execution_count": 4,
   "metadata": {},
   "outputs": [
    {
     "data": {
      "text/plain": [
       "'c:\\\\Users\\\\Ken\\\\OneDrive - connect.hku.hk\\\\hku notes\\\\Year3\\\\research\\\\dataset'"
      ]
     },
     "execution_count": 4,
     "metadata": {},
     "output_type": "execute_result"
    }
   ],
   "source": [
    "path"
   ]
  },
  {
   "attachments": {},
   "cell_type": "markdown",
   "metadata": {},
   "source": [
    "## Spliting Data"
   ]
  },
  {
   "cell_type": "code",
   "execution_count": 6,
   "metadata": {},
   "outputs": [],
   "source": [
    "def splitData( path,train_r=0.7,test_r=0.2,val_r=0.1 ):\n",
    "# rename those files with JPG extension\n",
    "    path=os.path.join(os.getcwd(),\"dataset\")\n",
    "    f=os.listdir(path)\n",
    "    # f.remove(\".ipynb_checkpoints\")\n",
    "    # f.remove(\".ipynb_checkpoints.jpg\")\n",
    "    for fname in f:\n",
    "        if \".ipy\" in fname:\n",
    "            print(fname)\n",
    "        pre , ext = os.path.splitext(fname)\n",
    "        if ext != \".jpg\":\n",
    "            os.rename(os.path.join(path , fname) , os.path.join(path,pre) + \".jpg\")\n",
    "# shuffle dataset and get train,test,val dataset     \n",
    "    shuffle=os.listdir(path)\n",
    "    # shuffle.remove(\".ipynb_checkpoints\")\n",
    "    # shuffle.remove(\".ipynb_checkpoints.jpg\")\n",
    "    random.shuffle(shuffle)\n",
    "    l=len(shuffle)\n",
    "    train=shuffle[:int(l * train_r)]\n",
    "    test=shuffle[len(train): int(l * (train_r + test_r))]\n",
    "    val=shuffle[(len(train) + len(test)):]\n",
    "    print(\"train: \" , len(train) , \"ratio: \" , len(train)/l)\n",
    "    print(\"test: \" , len(test) , \"ratio: \" , len(test)/l)\n",
    "    print(\"val: \" , len(val) , \"ratio: \" , len(val)/l)\n",
    "    return train,test,val"
   ]
  },
  {
   "cell_type": "code",
   "execution_count": 7,
   "metadata": {
    "tags": []
   },
   "outputs": [],
   "source": [
    "def getDataset(train,test,val):\n",
    "#  create 4 dataframes(train , test , val , total) for data analysis\n",
    "    total=pandas.read_csv(os.path.join(os.getcwd() ,  \"info_images.txt\") , sep=\"\\t\")\n",
    "    for fname in train:\n",
    "        total.loc[total[\"FileName\"]==fname, \"D_type\"]=\"train\"\n",
    "    for fname in test:\n",
    "        total.loc[total[\"FileName\"]==fname, \"D_type\"]=\"test\"\n",
    "    for fname in val:\n",
    "        total.loc[total[\"FileName\"]==fname, \"D_type\"]=\"val\"\n",
    "    oneHot=pandas.get_dummies(total[\"D_type\"] , prefix=\"Type\")\n",
    "    trainDF=total.loc[oneHot[\"Type_train\"] != 0]\n",
    "    testDF=total.loc[oneHot[\"Type_test\"] != 0]\n",
    "    valDF=total.loc[oneHot[\"Type_val\"] != 0]\n",
    "    # print(trainDF , testDF , valDF)\n",
    "    return trainDF , testDF , valDF , total"
   ]
  },
  {
   "cell_type": "code",
   "execution_count": 10,
   "metadata": {},
   "outputs": [],
   "source": [
    "def dupFiles (SrCpath,train,test,val):\n",
    "    DesTpath=os.path.join(os.getcwd(),\"data\")\n",
    "    os.makedirs(DesTpath, exist_ok=True)\n",
    "    d_dict={\"train\":[os.path.join(DesTpath , \"train\") , train], \"test\":[os.path.join(DesTpath , \"test\") , test], \"val\":[os.path.join(DesTpath , \"val\") , val]}\n",
    "    for _,d in d_dict.items():\n",
    "        print(_)\n",
    "        p=d[0]\n",
    "        if os.path.exists(p) and os.path.isdir(p):\n",
    "            shutil.rmtree(p)\n",
    "        os.makedirs(p)\n",
    "        Flist=d[1]\n",
    "        for fname in Flist:\n",
    "            # print(fname)\n",
    "            shutil.copy(os.path.join(SrCpath , fname), p)\n",
    "    "
   ]
  },
  {
   "cell_type": "code",
   "execution_count": 9,
   "metadata": {},
   "outputs": [
    {
     "name": "stdout",
     "output_type": "stream",
     "text": [
      "train:  2121 ratio:  0.7\n",
      "test:  605 ratio:  0.19966996699669967\n",
      "val:  304 ratio:  0.10033003300330033\n"
     ]
    }
   ],
   "source": [
    "train,test,val = splitData(path)\n",
    "trainDF,testDF,valDF,total = getDataset(train,test,val)"
   ]
  },
  {
   "cell_type": "code",
   "execution_count": 15,
   "metadata": {},
   "outputs": [
    {
     "name": "stdout",
     "output_type": "stream",
     "text": [
      "train\n",
      "test\n",
      "val\n"
     ]
    }
   ],
   "source": [
    "dupFiles (path , train , test , val)"
   ]
  },
  {
   "cell_type": "code",
   "execution_count": 10,
   "metadata": {},
   "outputs": [],
   "source": [
    "trainDF.to_csv(\"tables/trainDF.csv\")\n",
    "testDF.to_csv(\"tables/testDF.csv\")\n",
    "valDF.to_csv(\"tables/valDF.csv\")"
   ]
  },
  {
   "attachments": {},
   "cell_type": "markdown",
   "metadata": {},
   "source": [
    "## Statistical Inference"
   ]
  },
  {
   "cell_type": "code",
   "execution_count": 2,
   "metadata": {},
   "outputs": [],
   "source": [
    "trainDF=pandas.read_csv(\"tables/trainDF.csv\")\n",
    "train=trainDF[\"FileName\"]\n",
    "testDF=pandas.read_csv(\"tables/testDF.csv\")\n",
    "test=testDF[\"FileName\"]\n",
    "valDF=pandas.read_csv(\"tables/valDF.csv\")\n",
    "val=valDF[\"FileName\"]\n",
    "total=pandas.read_csv(os.path.join(os.getcwd() ,  \"tables/info_images.txt\") , sep=\"\\t\")\n"
   ]
  },
  {
   "cell_type": "code",
   "execution_count": 11,
   "metadata": {},
   "outputs": [
    {
     "data": {
      "text/plain": [
       "['FileName',\n",
       " 'DateTimeOriginal',\n",
       " 'GPSLatitude',\n",
       " 'GPSLongitude',\n",
       " 'picture_id',\n",
       " 'nb_judgments',\n",
       " 'mean_elo_rating',\n",
       " 'st_elo_rating',\n",
       " 'elo_reduced',\n",
       " 'D_type']"
      ]
     },
     "execution_count": 11,
     "metadata": {},
     "output_type": "execute_result"
    }
   ],
   "source": [
    "[c for c in total.columns]"
   ]
  },
  {
   "cell_type": "code",
   "execution_count": 12,
   "metadata": {},
   "outputs": [
    {
     "data": {
      "text/html": [
       "<div>\n",
       "<style scoped>\n",
       "    .dataframe tbody tr th:only-of-type {\n",
       "        vertical-align: middle;\n",
       "    }\n",
       "\n",
       "    .dataframe tbody tr th {\n",
       "        vertical-align: top;\n",
       "    }\n",
       "\n",
       "    .dataframe thead th {\n",
       "        text-align: right;\n",
       "    }\n",
       "</style>\n",
       "<table border=\"1\" class=\"dataframe\">\n",
       "  <thead>\n",
       "    <tr style=\"text-align: right;\">\n",
       "      <th></th>\n",
       "      <th>mean_elo_rating</th>\n",
       "      <th>st_elo_rating</th>\n",
       "      <th>elo_reduced</th>\n",
       "    </tr>\n",
       "  </thead>\n",
       "  <tbody>\n",
       "    <tr>\n",
       "      <th>count</th>\n",
       "      <td>3030.000000</td>\n",
       "      <td>3030.000000</td>\n",
       "      <td>3.030000e+03</td>\n",
       "    </tr>\n",
       "    <tr>\n",
       "      <th>mean</th>\n",
       "      <td>1000.000000</td>\n",
       "      <td>64.206672</td>\n",
       "      <td>-1.407015e-17</td>\n",
       "    </tr>\n",
       "    <tr>\n",
       "      <th>std</th>\n",
       "      <td>198.078446</td>\n",
       "      <td>16.888118</td>\n",
       "      <td>1.000000e+00</td>\n",
       "    </tr>\n",
       "    <tr>\n",
       "      <th>min</th>\n",
       "      <td>456.916667</td>\n",
       "      <td>13.784873</td>\n",
       "      <td>-2.741759e+00</td>\n",
       "    </tr>\n",
       "    <tr>\n",
       "      <th>25%</th>\n",
       "      <td>858.125000</td>\n",
       "      <td>52.258463</td>\n",
       "      <td>-7.162566e-01</td>\n",
       "    </tr>\n",
       "    <tr>\n",
       "      <th>50%</th>\n",
       "      <td>1003.083333</td>\n",
       "      <td>63.436917</td>\n",
       "      <td>1.556622e-02</td>\n",
       "    </tr>\n",
       "    <tr>\n",
       "      <th>75%</th>\n",
       "      <td>1147.083333</td>\n",
       "      <td>75.525319</td>\n",
       "      <td>7.425509e-01</td>\n",
       "    </tr>\n",
       "    <tr>\n",
       "      <th>max</th>\n",
       "      <td>1534.833333</td>\n",
       "      <td>127.706695</td>\n",
       "      <td>2.700109e+00</td>\n",
       "    </tr>\n",
       "  </tbody>\n",
       "</table>\n",
       "</div>"
      ],
      "text/plain": [
       "       mean_elo_rating  st_elo_rating   elo_reduced\n",
       "count      3030.000000    3030.000000  3.030000e+03\n",
       "mean       1000.000000      64.206672 -1.407015e-17\n",
       "std         198.078446      16.888118  1.000000e+00\n",
       "min         456.916667      13.784873 -2.741759e+00\n",
       "25%         858.125000      52.258463 -7.162566e-01\n",
       "50%        1003.083333      63.436917  1.556622e-02\n",
       "75%        1147.083333      75.525319  7.425509e-01\n",
       "max        1534.833333     127.706695  2.700109e+00"
      ]
     },
     "execution_count": 12,
     "metadata": {},
     "output_type": "execute_result"
    }
   ],
   "source": [
    "total.describe()[[\"mean_elo_rating\",\"st_elo_rating\",\"elo_reduced\"]]"
   ]
  },
  {
   "cell_type": "code",
   "execution_count": 9,
   "metadata": {},
   "outputs": [],
   "source": [
    "all=pandas.read_csv(\"info_images.csv\")\n",
    "all[\"Name\"]=all[\"Name\"].apply(lambda x :x.lower())\n",
    "ts=pandas.read_csv(\"trueskill_10.csv\")\n",
    "merge=pandas.merge(all,ts,on=\"Name\")\n",
    "merge.drop(\"Unnamed: 0\",inplace=True,axis=1)\n",
    "merge\n",
    "# merge.to_csv(\"elo_trueskil_merged.csv\")"
   ]
  },
  {
   "cell_type": "code",
   "execution_count": 11,
   "metadata": {},
   "outputs": [
    {
     "name": "stdout",
     "output_type": "stream",
     "text": [
      "Correlation between elo and trueskill_0:  -0.9542863555036986\n",
      "Correlation between elo and trueskill_1:  -0.9535541916683699\n",
      "Correlation between elo and trueskill_2:  -0.9535745047532944\n",
      "Correlation between elo and trueskill_3:  -0.9547691976126682\n",
      "Correlation between elo and trueskill_4:  -0.9538206794397665\n",
      "Correlation between elo and trueskill_5:  -0.9533625142628599\n",
      "Correlation between elo and trueskill_6:  -0.9536898755929382\n",
      "Correlation between elo and trueskill_7:  -0.9541209286526514\n",
      "Correlation between elo and trueskill_8:  -0.9553100339249129\n",
      "Correlation between elo and trueskill_9:  -0.9545887430746783\n"
     ]
    }
   ],
   "source": [
    "for i in range(10):\n",
    "    print(f\"Correlation between elo and trueskill_{i}: \" , merge[\"elo_reduced\"].corr(merge[f\"rank_{i}\"]))"
   ]
  },
  {
   "cell_type": "code",
   "execution_count": 29,
   "metadata": {},
   "outputs": [
    {
     "data": {
      "text/plain": [
       "<matplotlib.collections.PathCollection at 0x1fc17d9dfa0>"
      ]
     },
     "execution_count": 29,
     "metadata": {},
     "output_type": "execute_result"
    },
    {
     "data": {
      "image/png": "[encoded data removed]",
      "text/plain": [
       "<Figure size 432x288 with 1 Axes>"
      ]
     },
     "metadata": {
      "needs_background": "light"
     },
     "output_type": "display_data"
    }
   ],
   "source": [
    "plt.scatter(merge[\"elo_reduced\"],merge[\"rank_1\"])"
   ]
  },
  {
   "attachments": {},
   "cell_type": "markdown",
   "metadata": {},
   "source": [
    "### Select images by condition and analyze separately"
   ]
  },
  {
   "cell_type": "code",
   "execution_count": 31,
   "metadata": {},
   "outputs": [],
   "source": [
    "# Select images by condition and analyze\n",
    "#\n",
    "# selected=total.loc[(total[\"elo_reduced\"]>=0.0) & (total[\"elo_reduced\"]<=1.0)]\n",
    "selected = total.sort_values(by = \"elo_reduced\" ,  ascending = True)\n",
    "Flist=list(selected[\"FileName\"])\n",
    "folderName=\"sort_by_elo_asc\"\n",
    "os.makedirs(os.path.join(os.getcwd(),folderName),exist_ok=True)\n",
    "count=0\n",
    "for fname in Flist:\n",
    "    row=selected.loc[selected[\"FileName\"]==fname].index.item()\n",
    "    # print(selected.iloc[i][\"elo_reduced\"])\n",
    "    shutil.copy(os.path.join(path , fname ), os.path.join(os.getcwd(),folderName,f\"{count}_{row}.jpg\"))\n",
    "    count+=1\n",
    "# print(Flist[:10])"
   ]
  },
  {
   "cell_type": "code",
   "execution_count": 4,
   "metadata": {},
   "outputs": [],
   "source": [
    "# f=[f for f in os.listdir(\"overlay\") if not f.startswith(\".\")]\n",
    "# for fname in f:\n",
    "#     row=total.loc[total[\"FileName\"]==fname].index.item()\n",
    "#     os.rename(\"overlay/\" + fname, f\"{row}.jpg\")"
   ]
  },
  {
   "cell_type": "code",
   "execution_count": 28,
   "metadata": {},
   "outputs": [
    {
     "data": {
      "text/html": [
       "<div>\n",
       "<style scoped>\n",
       "    .dataframe tbody tr th:only-of-type {\n",
       "        vertical-align: middle;\n",
       "    }\n",
       "\n",
       "    .dataframe tbody tr th {\n",
       "        vertical-align: top;\n",
       "    }\n",
       "\n",
       "    .dataframe thead th {\n",
       "        text-align: right;\n",
       "    }\n",
       "</style>\n",
       "<table border=\"1\" class=\"dataframe\">\n",
       "  <thead>\n",
       "    <tr style=\"text-align: right;\">\n",
       "      <th></th>\n",
       "      <th>FileName</th>\n",
       "      <th>DateTimeOriginal</th>\n",
       "      <th>GPSLatitude</th>\n",
       "      <th>GPSLongitude</th>\n",
       "      <th>picture_id</th>\n",
       "      <th>nb_judgments</th>\n",
       "      <th>mean_elo_rating</th>\n",
       "      <th>st_elo_rating</th>\n",
       "      <th>elo_reduced</th>\n",
       "    </tr>\n",
       "  </thead>\n",
       "  <tbody>\n",
       "    <tr>\n",
       "      <th>583</th>\n",
       "      <td>Team 12 (Whampoa)_Tam Chin Hang (Nigel)_24.jpg</td>\n",
       "      <td>2020:11:06 11:38:31</td>\n",
       "      <td>22.300083</td>\n",
       "      <td>114.187347</td>\n",
       "      <td>3641</td>\n",
       "      <td>30</td>\n",
       "      <td>456.916667</td>\n",
       "      <td>17.966931</td>\n",
       "      <td>-2.741759</td>\n",
       "    </tr>\n",
       "    <tr>\n",
       "      <th>586</th>\n",
       "      <td>Team 12 (Whampoa)_Tam Chin Hang (Nigel)_29.jpg</td>\n",
       "      <td>2020:11:06 11:41:21</td>\n",
       "      <td>22.299272</td>\n",
       "      <td>114.185517</td>\n",
       "      <td>3661</td>\n",
       "      <td>35</td>\n",
       "      <td>459.333333</td>\n",
       "      <td>16.691497</td>\n",
       "      <td>-2.729558</td>\n",
       "    </tr>\n",
       "    <tr>\n",
       "      <th>2809</th>\n",
       "      <td>Team 8 (Central)_Yiu Sze Wan (Sharon)_5.jpg</td>\n",
       "      <td>2020:11:02 14:46:50</td>\n",
       "      <td>22.285442</td>\n",
       "      <td>114.162339</td>\n",
       "      <td>17368</td>\n",
       "      <td>35</td>\n",
       "      <td>465.333333</td>\n",
       "      <td>33.312114</td>\n",
       "      <td>-2.699267</td>\n",
       "    </tr>\n",
       "    <tr>\n",
       "      <th>2808</th>\n",
       "      <td>Team 8 (Central)_Yiu Sze Wan (Sharon)_49.jpg</td>\n",
       "      <td>2020:11:02 15:05:43</td>\n",
       "      <td>22.283900</td>\n",
       "      <td>114.161444</td>\n",
       "      <td>17367</td>\n",
       "      <td>33</td>\n",
       "      <td>473.666667</td>\n",
       "      <td>18.421003</td>\n",
       "      <td>-2.657196</td>\n",
       "    </tr>\n",
       "    <tr>\n",
       "      <th>2024</th>\n",
       "      <td>Team 4 (North Point)_Kwok Shun Wang (Clement)_...</td>\n",
       "      <td>2020:11:08 18:12:27</td>\n",
       "      <td>22.280861</td>\n",
       "      <td>114.189280</td>\n",
       "      <td>12431</td>\n",
       "      <td>33</td>\n",
       "      <td>483.500000</td>\n",
       "      <td>33.211444</td>\n",
       "      <td>-2.607553</td>\n",
       "    </tr>\n",
       "    <tr>\n",
       "      <th>...</th>\n",
       "      <td>...</td>\n",
       "      <td>...</td>\n",
       "      <td>...</td>\n",
       "      <td>...</td>\n",
       "      <td>...</td>\n",
       "      <td>...</td>\n",
       "      <td>...</td>\n",
       "      <td>...</td>\n",
       "      <td>...</td>\n",
       "    </tr>\n",
       "    <tr>\n",
       "      <th>721</th>\n",
       "      <td>Team 13 (Sai Ying Pun)_Siu Ka Sing (Benny)_123...</td>\n",
       "      <td>2020:11:10 14:03:14</td>\n",
       "      <td>22.287890</td>\n",
       "      <td>114.139442</td>\n",
       "      <td>4509</td>\n",
       "      <td>32</td>\n",
       "      <td>1493.500000</td>\n",
       "      <td>29.834391</td>\n",
       "      <td>2.491437</td>\n",
       "    </tr>\n",
       "    <tr>\n",
       "      <th>2165</th>\n",
       "      <td>Team 5 (Tai Koo)_Chau Chun Yiu (Daniel)_38.jpg</td>\n",
       "      <td>2020:11:06 10:43:55</td>\n",
       "      <td>22.276158</td>\n",
       "      <td>114.211383</td>\n",
       "      <td>13277</td>\n",
       "      <td>27</td>\n",
       "      <td>1506.083333</td>\n",
       "      <td>26.207072</td>\n",
       "      <td>2.554964</td>\n",
       "    </tr>\n",
       "    <tr>\n",
       "      <th>1950</th>\n",
       "      <td>Team 4 (North Point)_Kong Ling Chuen (Zoe)_151...</td>\n",
       "      <td>2020:11:07 09:55:36</td>\n",
       "      <td>22.291319</td>\n",
       "      <td>114.198014</td>\n",
       "      <td>11959</td>\n",
       "      <td>42</td>\n",
       "      <td>1508.916667</td>\n",
       "      <td>36.629492</td>\n",
       "      <td>2.569268</td>\n",
       "    </tr>\n",
       "    <tr>\n",
       "      <th>1711</th>\n",
       "      <td>Team 3 (Sheung Wan)_Chan Man Tik (Jacob)_121.jpg</td>\n",
       "      <td>2020:11:06 17:18:38</td>\n",
       "      <td>22.278186</td>\n",
       "      <td>114.156844</td>\n",
       "      <td>10475</td>\n",
       "      <td>43</td>\n",
       "      <td>1516.166667</td>\n",
       "      <td>61.451878</td>\n",
       "      <td>2.605870</td>\n",
       "    </tr>\n",
       "    <tr>\n",
       "      <th>2157</th>\n",
       "      <td>Team 5 (Tai Koo)_Chau Chun Yiu (Daniel)_20.jpg</td>\n",
       "      <td>2020:11:06 10:38:56</td>\n",
       "      <td>22.275416</td>\n",
       "      <td>114.210659</td>\n",
       "      <td>13216</td>\n",
       "      <td>41</td>\n",
       "      <td>1534.833333</td>\n",
       "      <td>38.944794</td>\n",
       "      <td>2.700109</td>\n",
       "    </tr>\n",
       "  </tbody>\n",
       "</table>\n",
       "<p>3030 rows × 9 columns</p>\n",
       "</div>"
      ],
      "text/plain": [
       "                                               FileName     DateTimeOriginal  \\\n",
       "583      Team 12 (Whampoa)_Tam Chin Hang (Nigel)_24.jpg  2020:11:06 11:38:31   \n",
       "586      Team 12 (Whampoa)_Tam Chin Hang (Nigel)_29.jpg  2020:11:06 11:41:21   \n",
       "2809        Team 8 (Central)_Yiu Sze Wan (Sharon)_5.jpg  2020:11:02 14:46:50   \n",
       "2808       Team 8 (Central)_Yiu Sze Wan (Sharon)_49.jpg  2020:11:02 15:05:43   \n",
       "2024  Team 4 (North Point)_Kwok Shun Wang (Clement)_...  2020:11:08 18:12:27   \n",
       "...                                                 ...                  ...   \n",
       "721   Team 13 (Sai Ying Pun)_Siu Ka Sing (Benny)_123...  2020:11:10 14:03:14   \n",
       "2165     Team 5 (Tai Koo)_Chau Chun Yiu (Daniel)_38.jpg  2020:11:06 10:43:55   \n",
       "1950  Team 4 (North Point)_Kong Ling Chuen (Zoe)_151...  2020:11:07 09:55:36   \n",
       "1711   Team 3 (Sheung Wan)_Chan Man Tik (Jacob)_121.jpg  2020:11:06 17:18:38   \n",
       "2157     Team 5 (Tai Koo)_Chau Chun Yiu (Daniel)_20.jpg  2020:11:06 10:38:56   \n",
       "\n",
       "      GPSLatitude  GPSLongitude  picture_id  nb_judgments  mean_elo_rating  \\\n",
       "583     22.300083    114.187347        3641            30       456.916667   \n",
       "586     22.299272    114.185517        3661            35       459.333333   \n",
       "2809    22.285442    114.162339       17368            35       465.333333   \n",
       "2808    22.283900    114.161444       17367            33       473.666667   \n",
       "2024    22.280861    114.189280       12431            33       483.500000   \n",
       "...           ...           ...         ...           ...              ...   \n",
       "721     22.287890    114.139442        4509            32      1493.500000   \n",
       "2165    22.276158    114.211383       13277            27      1506.083333   \n",
       "1950    22.291319    114.198014       11959            42      1508.916667   \n",
       "1711    22.278186    114.156844       10475            43      1516.166667   \n",
       "2157    22.275416    114.210659       13216            41      1534.833333   \n",
       "\n",
       "      st_elo_rating  elo_reduced  \n",
       "583       17.966931    -2.741759  \n",
       "586       16.691497    -2.729558  \n",
       "2809      33.312114    -2.699267  \n",
       "2808      18.421003    -2.657196  \n",
       "2024      33.211444    -2.607553  \n",
       "...             ...          ...  \n",
       "721       29.834391     2.491437  \n",
       "2165      26.207072     2.554964  \n",
       "1950      36.629492     2.569268  \n",
       "1711      61.451878     2.605870  \n",
       "2157      38.944794     2.700109  \n",
       "\n",
       "[3030 rows x 9 columns]"
      ]
     },
     "execution_count": 28,
     "metadata": {},
     "output_type": "execute_result"
    }
   ],
   "source": [
    "selected = total.sort_values(by = \"elo_reduced\" ,  ascending = True)\n",
    "selected"
   ]
  },
  {
   "cell_type": "code",
   "execution_count": 33,
   "metadata": {},
   "outputs": [],
   "source": [
    "ts_rank_only=pandas.read_csv(\"trueskill_rank_only.csv\")\n",
    "ts_rank_only[\"rank\"]=ts_rank_only.iloc[:, 1:10].mean(axis=1)\n",
    "ts_rank_only[\"Name\"]=ts_rank_only[\"Name\"].apply(lambda x : x.replace(\"&\",\"_\"))"
   ]
  },
  {
   "cell_type": "code",
   "execution_count": 35,
   "metadata": {},
   "outputs": [],
   "source": [
    "ts_rank_only.to_csv(\"trueskill.csv\",index=False)"
   ]
  },
  {
   "cell_type": "code",
   "execution_count": 20,
   "metadata": {},
   "outputs": [
    {
     "name": "stderr",
     "output_type": "stream",
     "text": [
      "C:\\Users\\Ken\\AppData\\Local\\Temp/ipykernel_14316/3514887022.py:2: SettingWithCopyWarning: \n",
      "A value is trying to be set on a copy of a slice from a DataFrame.\n",
      "Try using .loc[row_indexer,col_indexer] = value instead\n",
      "\n",
      "See the caveats in the documentation: https://pandas.pydata.org/pandas-docs/stable/user_guide/indexing.html#returning-a-view-versus-a-copy\n",
      "  train_ag[\"rank\"]=0\n",
      "C:\\Users\\Ken\\AppData\\Local\\Temp/ipykernel_14316/3514887022.py:4: SettingWithCopyWarning: \n",
      "A value is trying to be set on a copy of a slice from a DataFrame.\n",
      "Try using .loc[row_indexer,col_indexer] = value instead\n",
      "\n",
      "See the caveats in the documentation: https://pandas.pydata.org/pandas-docs/stable/user_guide/indexing.html#returning-a-view-versus-a-copy\n",
      "  test_ag[\"rank\"]=0\n",
      "C:\\Users\\Ken\\AppData\\Local\\Temp/ipykernel_14316/3514887022.py:6: SettingWithCopyWarning: \n",
      "A value is trying to be set on a copy of a slice from a DataFrame.\n",
      "Try using .loc[row_indexer,col_indexer] = value instead\n",
      "\n",
      "See the caveats in the documentation: https://pandas.pydata.org/pandas-docs/stable/user_guide/indexing.html#returning-a-view-versus-a-copy\n",
      "  val_ag[\"rank\"]=0\n",
      "c:\\Users\\Ken\\anaconda3\\envs\\test\\lib\\site-packages\\pandas\\core\\frame.py:5039: SettingWithCopyWarning: \n",
      "A value is trying to be set on a copy of a slice from a DataFrame\n",
      "\n",
      "See the caveats in the documentation: https://pandas.pydata.org/pandas-docs/stable/user_guide/indexing.html#returning-a-view-versus-a-copy\n",
      "  return super().rename(\n",
      "C:\\Users\\Ken\\AppData\\Local\\Temp/ipykernel_14316/3514887022.py:19: SettingWithCopyWarning: \n",
      "A value is trying to be set on a copy of a slice from a DataFrame.\n",
      "Try using .loc[row_indexer,col_indexer] = value instead\n",
      "\n",
      "See the caveats in the documentation: https://pandas.pydata.org/pandas-docs/stable/user_guide/indexing.html#returning-a-view-versus-a-copy\n",
      "  df[\"rank\"]= np.around(df[\"rank\"],decimals=2)\n"
     ]
    }
   ],
   "source": [
    "# select part of the columns, round up elo and rename column\n",
    "# train_ag=trainDF[[\"FileName\"]]\n",
    "# train_ag[\"rank\"]=0\n",
    "# test_ag=testDF[[\"FileName\"]]\n",
    "# test_ag[\"rank\"]=0\n",
    "# val_ag=valDF[[\"FileName\"]]\n",
    "# val_ag[\"rank\"]=0\n",
    "# ts=pandas.read_csv(\"trueskill.csv\")\n",
    "# for fname in train:\n",
    "#     if len(ts.loc[ts[\"Name\"]==fname.lower()])!=1:\n",
    "#         print(fname.lower())\n",
    "#     train_ag.loc[train_ag[\"FileName\"]==fname,\"rank\"]=ts.loc[ts[\"Name\"]==fname.lower(),\"rank\"].item()\n",
    "# for fname in test:\n",
    "#     test_ag.loc[test_ag[\"FileName\"]==fname,\"rank\"]=ts.loc[ts[\"Name\"]==fname.lower(),\"rank\"].item()\n",
    "# for fname in val:\n",
    "#     val_ag.loc[val_ag[\"FileName\"]==fname,\"rank\"]=ts.loc[ts[\"Name\"]==fname.lower(),\"rank\"].item()\n",
    "# df_ls=[train_ag,test_ag,val_ag]\n",
    "# for df in df_ls:\n",
    "#     df.rename(columns={\"FileName\":\"image\"},inplace=True)\n",
    "#     df[\"rank\"]= np.around(df[\"rank\"],decimals=2)\n",
    "# # train_ag=pandas.concat([train_ag,test_ag])\n",
    "# train_ag.to_csv(\"train_ag2.csv\")\n",
    "# test_ag.to_csv(\"test_ag2.csv\")\n",
    "# val_ag.to_csv(\"val_ag2.csv\")\n",
    "\n",
    "\n"
   ]
  }
 ],
 "metadata": {
  "kernelspec": {
   "display_name": "test",
   "language": "python",
   "name": "python3"
  },
  "language_info": {
   "codemirror_mode": {
    "name": "ipython",
    "version": 3
   },
   "file_extension": ".py",
   "mimetype": "text/x-python",
   "name": "python",
   "nbconvert_exporter": "python",
   "pygments_lexer": "ipython3",
   "version": "3.8.10 (default, May 19 2021, 13:12:57) [MSC v.1916 64 bit (AMD64)]"
  },
  "vscode": {
   "interpreter": {
    "hash": "d446c207df0cf73f7f6e46bdfab2ae5c8256ce5ae94045fb4ded5883dc09e2bd"
   }
  }
 },
 "nbformat": 4,
 "nbformat_minor": 4
}
