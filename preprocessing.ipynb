{
 "cells": [
  {
   "cell_type": "code",
   "execution_count": 1,
   "metadata": {},
   "outputs": [
    {
     "name": "stderr",
     "output_type": "stream",
     "text": [
      "/userhome/cs/chan0305/ENTER/envs/walkability/lib/python3.7/site-packages/tqdm/auto.py:22: TqdmWarning: IProgress not found. Please update jupyter and ipywidgets. See https://ipywidgets.readthedocs.io/en/stable/user_install.html\n",
      "  from .autonotebook import tqdm as notebook_tqdm\n"
     ]
    }
   ],
   "source": [
    "%matplotlib inline\n",
    "import torch\n",
    "import torchvision\n",
    "from torch import nn\n",
    "import pandas\n",
    "import os\n",
    "import random\n",
    "from PIL import Image\n",
    "from matplotlib import pyplot as plt\n",
    "import numpy as np\n",
    "from IPython import display\n",
    "import time\n",
    "import shutil\n",
    "import matplotlib_inline.backend_inline"
   ]
  },
  {
   "cell_type": "code",
   "execution_count": 2,
   "metadata": {},
   "outputs": [],
   "source": [
    "matplotlib_inline.backend_inline.set_matplotlib_formats(\"svg\")"
   ]
  },
  {
   "cell_type": "code",
   "execution_count": 3,
   "metadata": {
    "tags": []
   },
   "outputs": [],
   "source": [
    "path=os.path.join(os.getcwd(),\"dataset\")"
   ]
  },
  {
   "cell_type": "code",
   "execution_count": 4,
   "metadata": {},
   "outputs": [],
   "source": [
    "def splitData( path,train_r=0.7,test_r=0.2,val_r=0.1 ):\n",
    "# rename those files with JPG extension\n",
    "    path=os.path.join(os.getcwd(),\"dataset\")\n",
    "    f=[ f for f in os.listdir(path) if not f.startwith(\".\")]\n",
    "\n",
    "    for fname in f:\n",
    "        if \".ipy\" in fname:\n",
    "            print(fname)\n",
    "        pre , ext = os.path.splitext(fname)\n",
    "        if ext != \".jpg\":\n",
    "            os.rename(os.path.join(path , fname) , os.path.join(path,pre) + \".jpg\")\n",
    "# shuffle dataset and get train,test,val dataset     \n",
    "    shuffle=os.listdir(path)\n",
    "    shuffle.remove(\".ipynb_checkpoints\")\n",
    "    shuffle.remove(\".ipynb_checkpoints.jpg\")\n",
    "    random.shuffle(shuffle)\n",
    "    l=len(shuffle)\n",
    "    train=shuffle[:int(l * train_r)]\n",
    "    test=shuffle[len(train): int(l * (train_r + test_r))]\n",
    "    val=shuffle[(len(train) + len(test)):]\n",
    "    print(\"train: \" , len(train) , \"ratio: \" , len(train)/l)\n",
    "    print(\"test: \" , len(test) , \"ratio: \" , len(test)/l)\n",
    "    print(\"val: \" , len(val) , \"ratio: \" , len(val)/l)\n",
    "    return train,test,val"
   ]
  },
  {
   "cell_type": "code",
   "execution_count": 10,
   "metadata": {
    "tags": []
   },
   "outputs": [],
   "source": [
    "def getDataset(train,test,val):\n",
    "#  create 4 dataframes(train , test , val , total) for data analysis\n",
    "    total=pandas.read_csv(os.path.join(os.getcwd() ,  \"info_images.txt\") , sep=\"\\t\")\n",
    "    for fname in train:\n",
    "        total.loc[total[\"FileName\"]==fname, \"D_type\"]=\"train\"\n",
    "    for fname in test:\n",
    "        total.loc[total[\"FileName\"]==fname, \"D_type\"]=\"test\"\n",
    "    for fname in val:\n",
    "        total.loc[total[\"FileName\"]==fname, \"D_type\"]=\"val\"\n",
    "    oneHot=pandas.get_dummies(total[\"D_type\"] , prefix=\"Type\")\n",
    "    trainDF=total.loc[oneHot[\"Type_train\"] != 0]\n",
    "    testDF=total.loc[oneHot[\"Type_test\"] != 0]\n",
    "    valDF=total.loc[oneHot[\"Type_val\"] != 0]\n",
    "    trainDF.to_csv(\"trainDF.csv\")\n",
    "    testDF.to_csv(\"testDF.csv\")\n",
    "    valDF.to_csv(\"valDF.csv\")\n",
    "    # print(trainDF , testDF , valDF)\n",
    "    return trainDF , testDF , valDF , total"
   ]
  },
  {
   "cell_type": "code",
   "execution_count": 11,
   "metadata": {},
   "outputs": [],
   "source": [
    "def dupFiles (SrCpath,train,tes,val):\n",
    "    DesTpath=os.path.join(os.getcwd(),\"data\")\n",
    "    os.makedirs(DesTpath, exist_ok=True)\n",
    "    d_dict={\"train\":[os.path.join(DesTpath , \"train\") , train], \"test\":[os.path.join(DesTpath , \"test\") , test], \"val\":[os.path.join(DesTpath , \"val\") , val]}\n",
    "    for _,d in d_dict.items():\n",
    "        print(_)\n",
    "        p=d[0]\n",
    "        if os.path.exists(p) and os.path.isdir(p):\n",
    "            shutil.rmtree(p)\n",
    "        os.makedirs(p)\n",
    "        Flist=d[1]\n",
    "        for fname in Flist:\n",
    "            # print(fname)\n",
    "            shutil.copy(os.path.join(SrCpath , fname), p)\n",
    "    "
   ]
  },
  {
   "cell_type": "code",
   "execution_count": 12,
   "metadata": {},
   "outputs": [
    {
     "name": "stdout",
     "output_type": "stream",
     "text": [
      "train:  2121 ratio:  0.7\n",
      "test:  605 ratio:  0.19966996699669967\n",
      "val:  304 ratio:  0.10033003300330033\n"
     ]
    }
   ],
   "source": [
    "train,test,val = splitData(path)\n",
    "trainDF,testDF,valDF,total = getDataset(train,test,val)"
   ]
  },
  {
   "cell_type": "code",
   "execution_count": 13,
   "metadata": {},
   "outputs": [
    {
     "name": "stdout",
     "output_type": "stream",
     "text": [
      "train\n",
      "test\n",
      "val\n"
     ]
    }
   ],
   "source": [
    "dupFiles (path , train , test , val)"
   ]
  },
  {
   "cell_type": "code",
   "execution_count": 9,
   "metadata": {},
   "outputs": [
    {
     "name": "stderr",
     "output_type": "stream",
     "text": [
      "/userhome/cs/chan0305/ENTER/envs/walkability/lib/python3.7/site-packages/pandas/core/frame.py:5047: SettingWithCopyWarning: \n",
      "A value is trying to be set on a copy of a slice from a DataFrame\n",
      "\n",
      "See the caveats in the documentation: https://pandas.pydata.org/pandas-docs/stable/user_guide/indexing.html#returning-a-view-versus-a-copy\n",
      "  errors=errors,\n",
      "/userhome/cs/chan0305/ENTER/envs/walkability/lib/python3.7/site-packages/ipykernel_launcher.py:7: SettingWithCopyWarning: \n",
      "A value is trying to be set on a copy of a slice from a DataFrame.\n",
      "Try using .loc[row_indexer,col_indexer] = value instead\n",
      "\n",
      "See the caveats in the documentation: https://pandas.pydata.org/pandas-docs/stable/user_guide/indexing.html#returning-a-view-versus-a-copy\n",
      "  import sys\n"
     ]
    }
   ],
   "source": [
    "train_ag=trainDF[[\"FileName\",\"elo_reduced\"]]\n",
    "test_ag=testDF[[\"FileName\",\"elo_reduced\"]]\n",
    "val_ag=valDF[[\"FileName\",\"elo_reduced\"]]\n",
    "df_ls=[train_ag,test_ag,val_ag]\n",
    "for df in df_ls:\n",
    "    df.rename(columns={\"FileName\":\"image\"},inplace=True)\n",
    "    df[\"elo_reduced\"]= np.around(df[\"elo_reduced\"],decimals=1)\n",
    "train_ag.to_csv(\"train_ag.csv\")\n",
    "test_ag.to_csv(\"test_ag.csv\")\n",
    "val_ag.to_csv(\"val_ag.csv\")"
   ]
  },
  {
   "cell_type": "code",
   "execution_count": 16,
   "metadata": {},
   "outputs": [],
   "source": [
    "ts=pandas.read_csv(\"trueskill.csv\")\n",
    "ts[\"rank_c\"]=pandas.qcut(ts[\"rank\"],q=100,labels=[i for i in range(100)])"
   ]
  },
  {
   "cell_type": "code",
   "execution_count": 18,
   "metadata": {},
   "outputs": [
    {
     "name": "stderr",
     "output_type": "stream",
     "text": [
      "/userhome/cs/chan0305/ENTER/envs/walkability/lib/python3.7/site-packages/ipykernel_launcher.py:2: SettingWithCopyWarning: \n",
      "A value is trying to be set on a copy of a slice from a DataFrame.\n",
      "Try using .loc[row_indexer,col_indexer] = value instead\n",
      "\n",
      "See the caveats in the documentation: https://pandas.pydata.org/pandas-docs/stable/user_guide/indexing.html#returning-a-view-versus-a-copy\n",
      "  \n",
      "/userhome/cs/chan0305/ENTER/envs/walkability/lib/python3.7/site-packages/ipykernel_launcher.py:4: SettingWithCopyWarning: \n",
      "A value is trying to be set on a copy of a slice from a DataFrame.\n",
      "Try using .loc[row_indexer,col_indexer] = value instead\n",
      "\n",
      "See the caveats in the documentation: https://pandas.pydata.org/pandas-docs/stable/user_guide/indexing.html#returning-a-view-versus-a-copy\n",
      "  after removing the cwd from sys.path.\n",
      "/userhome/cs/chan0305/ENTER/envs/walkability/lib/python3.7/site-packages/ipykernel_launcher.py:6: SettingWithCopyWarning: \n",
      "A value is trying to be set on a copy of a slice from a DataFrame.\n",
      "Try using .loc[row_indexer,col_indexer] = value instead\n",
      "\n",
      "See the caveats in the documentation: https://pandas.pydata.org/pandas-docs/stable/user_guide/indexing.html#returning-a-view-versus-a-copy\n",
      "  \n",
      "/userhome/cs/chan0305/ENTER/envs/walkability/lib/python3.7/site-packages/pandas/core/indexing.py:1817: SettingWithCopyWarning: \n",
      "A value is trying to be set on a copy of a slice from a DataFrame.\n",
      "Try using .loc[row_indexer,col_indexer] = value instead\n",
      "\n",
      "See the caveats in the documentation: https://pandas.pydata.org/pandas-docs/stable/user_guide/indexing.html#returning-a-view-versus-a-copy\n",
      "  self._setitem_single_column(loc, value, pi)\n",
      "/userhome/cs/chan0305/ENTER/envs/walkability/lib/python3.7/site-packages/pandas/core/frame.py:5047: SettingWithCopyWarning: \n",
      "A value is trying to be set on a copy of a slice from a DataFrame\n",
      "\n",
      "See the caveats in the documentation: https://pandas.pydata.org/pandas-docs/stable/user_guide/indexing.html#returning-a-view-versus-a-copy\n",
      "  errors=errors,\n"
     ]
    }
   ],
   "source": [
    "train_ag=trainDF[[\"FileName\"]]\n",
    "train_ag[\"rank\"]=0\n",
    "test_ag=testDF[[\"FileName\"]]\n",
    "test_ag[\"rank\"]=0\n",
    "val_ag=valDF[[\"FileName\"]]\n",
    "val_ag[\"rank\"]=0\n",
    "for fname in train:\n",
    "    if len(ts.loc[ts[\"Name\"]==fname.lower()])!=1:\n",
    "        print(fname.lower())\n",
    "    train_ag.loc[train_ag[\"FileName\"]==fname,\"rank\"]=ts.loc[ts[\"Name\"]==fname.lower(),\"rank_c\"].item()\n",
    "for fname in test:\n",
    "    test_ag.loc[test_ag[\"FileName\"]==fname,\"rank\"]=ts.loc[ts[\"Name\"]==fname.lower(),\"rank_c\"].item()\n",
    "for fname in val:\n",
    "    val_ag.loc[val_ag[\"FileName\"]==fname,\"rank\"]=ts.loc[ts[\"Name\"]==fname.lower(),\"rank_c\"].item()\n",
    "df_ls=[train_ag,test_ag,val_ag]\n",
    "for df in df_ls:\n",
    "    df.rename(columns={\"FileName\":\"image\"},inplace=True)\n",
    "    # df[\"rank\"]= np.around(df[\"rank\"],decimals=1)\n",
    "# train_ag=pandas.concat([train_ag,test_ag])\n",
    "train_ag.to_csv(\"train_ag2.csv\")\n",
    "test_ag.to_csv(\"test_ag2.csv\")\n",
    "val_ag.to_csv(\"val_ag2.csv\")\n"
   ]
  },
  {
   "cell_type": "code",
   "execution_count": 171,
   "metadata": {},
   "outputs": [
    {
     "data": {
      "text/html": [
       "<div>\n",
       "<style scoped>\n",
       "    .dataframe tbody tr th:only-of-type {\n",
       "        vertical-align: middle;\n",
       "    }\n",
       "\n",
       "    .dataframe tbody tr th {\n",
       "        vertical-align: top;\n",
       "    }\n",
       "\n",
       "    .dataframe thead th {\n",
       "        text-align: right;\n",
       "    }\n",
       "</style>\n",
       "<table border=\"1\" class=\"dataframe\">\n",
       "  <thead>\n",
       "    <tr style=\"text-align: right;\">\n",
       "      <th></th>\n",
       "      <th>mean_elo_rating</th>\n",
       "      <th>st_elo_rating</th>\n",
       "      <th>elo_reduced</th>\n",
       "    </tr>\n",
       "  </thead>\n",
       "  <tbody>\n",
       "    <tr>\n",
       "      <th>count</th>\n",
       "      <td>3030.000000</td>\n",
       "      <td>3030.000000</td>\n",
       "      <td>3.030000e+03</td>\n",
       "    </tr>\n",
       "    <tr>\n",
       "      <th>mean</th>\n",
       "      <td>1000.000000</td>\n",
       "      <td>64.206672</td>\n",
       "      <td>-1.407015e-17</td>\n",
       "    </tr>\n",
       "    <tr>\n",
       "      <th>std</th>\n",
       "      <td>198.078446</td>\n",
       "      <td>16.888118</td>\n",
       "      <td>1.000000e+00</td>\n",
       "    </tr>\n",
       "    <tr>\n",
       "      <th>min</th>\n",
       "      <td>456.916667</td>\n",
       "      <td>13.784873</td>\n",
       "      <td>-2.741759e+00</td>\n",
       "    </tr>\n",
       "    <tr>\n",
       "      <th>25%</th>\n",
       "      <td>858.125000</td>\n",
       "      <td>52.258463</td>\n",
       "      <td>-7.162566e-01</td>\n",
       "    </tr>\n",
       "    <tr>\n",
       "      <th>50%</th>\n",
       "      <td>1003.083333</td>\n",
       "      <td>63.436917</td>\n",
       "      <td>1.556622e-02</td>\n",
       "    </tr>\n",
       "    <tr>\n",
       "      <th>75%</th>\n",
       "      <td>1147.083333</td>\n",
       "      <td>75.525319</td>\n",
       "      <td>7.425509e-01</td>\n",
       "    </tr>\n",
       "    <tr>\n",
       "      <th>max</th>\n",
       "      <td>1534.833333</td>\n",
       "      <td>127.706695</td>\n",
       "      <td>2.700109e+00</td>\n",
       "    </tr>\n",
       "  </tbody>\n",
       "</table>\n",
       "</div>"
      ],
      "text/plain": [
       "       mean_elo_rating  st_elo_rating   elo_reduced\n",
       "count      3030.000000    3030.000000  3.030000e+03\n",
       "mean       1000.000000      64.206672 -1.407015e-17\n",
       "std         198.078446      16.888118  1.000000e+00\n",
       "min         456.916667      13.784873 -2.741759e+00\n",
       "25%         858.125000      52.258463 -7.162566e-01\n",
       "50%        1003.083333      63.436917  1.556622e-02\n",
       "75%        1147.083333      75.525319  7.425509e-01\n",
       "max        1534.833333     127.706695  2.700109e+00"
      ]
     },
     "execution_count": 171,
     "metadata": {},
     "output_type": "execute_result"
    }
   ],
   "source": [
    "total.describe()[[\"mean_elo_rating\",\"st_elo_rating\",\"elo_reduced\"]]"
   ]
  },
  {
   "cell_type": "code",
   "execution_count": null,
   "metadata": {},
   "outputs": [],
   "source": []
  }
 ],
 "metadata": {
  "kernelspec": {
   "display_name": "Python 3 (ipykernel)",
   "language": "python",
   "name": "python3"
  },
  "language_info": {
   "codemirror_mode": {
    "name": "ipython",
    "version": 3
   },
   "file_extension": ".py",
   "mimetype": "text/x-python",
   "name": "python",
   "nbconvert_exporter": "python",
   "pygments_lexer": "ipython3",
   "version": "3.7.11"
  }
 },
 "nbformat": 4,
 "nbformat_minor": 4
}
